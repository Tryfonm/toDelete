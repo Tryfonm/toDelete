{
 "cells": [
  {
   "cell_type": "code",
   "execution_count": 1,
   "metadata": {},
   "outputs": [
    {
     "name": "stderr",
     "output_type": "stream",
     "text": [
      "2023/10/11 14:10:01 INFO mlflow.tracking.fluent: Autologging successfully enabled for sklearn.\n",
      "2023/10/11 14:10:01 INFO mlflow.utils.autologging_utils: Created MLflow autologging run with ID 'bbf79cc712534daa9fc258498267a1da', which will track hyperparameters, performance metrics, model artifacts, and lineage information for the current sklearn workflow\n",
      "2023/10/11 14:10:02 WARNING mlflow.utils.autologging_utils: Encountered unexpected error during sklearn autologging: The configured tracking uri scheme: 'file' is invalid for use with the proxy mlflow-artifact scheme. The allowed tracking schemes are: {'http', 'https'}\n"
     ]
    }
   ],
   "source": [
    "import mlflow \n",
    "from sklearn.model_selection import train_test_split \n",
    "from sklearn.datasets import load_diabetes\n",
    "from sklearn.ensemble import RandomForestRegressor \n",
    "\n",
    "# set the experiment id\n",
    "mlflow.set_experiment(experiment_id=\"0\")\n",
    "\n",
    "mlflow.autolog() \n",
    "db = load_diabetes() \n",
    "\n",
    "X_train, X_test, y_train, y_test = train_test_split(db.data, db.target) \n",
    "\n",
    "# Create and train models. \n",
    "rf = RandomForestRegressor(n_estimators=100, max_depth=6, max_features=3) \n",
    "rf.fit(X_train, y_train) \n",
    "\n",
    "# Use the model to make predictions on the test dataset. \n",
    "predictions = rf.predict(X_test)"
   ]
  }
 ],
 "metadata": {
  "kernelspec": {
   "display_name": "mlflow",
   "language": "python",
   "name": "python3"
  },
  "language_info": {
   "codemirror_mode": {
    "name": "ipython",
    "version": 3
   },
   "file_extension": ".py",
   "mimetype": "text/x-python",
   "name": "python",
   "nbconvert_exporter": "python",
   "pygments_lexer": "ipython3",
   "version": "3.10.12"
  }
 },
 "nbformat": 4,
 "nbformat_minor": 2
}
